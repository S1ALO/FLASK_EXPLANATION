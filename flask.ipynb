{
 "cells": [
  {
   "cell_type": "markdown",
   "metadata": {},
   "source": [
    "# Introduction to Python Flask\n",
    "# Step-by-Step Guide: Building a Flask Web App with SQLite3\n",
    "\n",
    "## Overview\n",
    "Flask is a lightweight web framework for Python that makes it easy to create web applications. It is widely used for developing APIs and small to medium-scale web applications.\n",
    "\n",
    "In this guide, we will create a simple web application using Flask and SQLite3. The application will include:\n",
    "- A user authentication system (login & register)\n",
    "- A database connection to store users and items (e.g., computer games)\n",
    "- Routes to add, view, and delete items using HTML templates\n",
    "\n",
    "## Learning Objectives\n",
    "- Understand the basics of Flask\n",
    "- Set up and run a Flask application\n",
    "- Create and manage routes\n",
    "- Connect Flask to an SQLite database\n",
    "- Handle CRUD operations using Flask and SQLite\n",
    "\n",
    "---"
   ]
  },
  {
   "cell_type": "markdown",
   "metadata": {},
   "source": [
    "## Understanding Flask Routes\n",
    "Flask uses **routes** to define different pages or API endpoints in a web application. A route is defined using the `@app.route()` decorator. Routes can handle different HTTP methods like `GET` (fetch data) and `POST` (send data).\n",
    "\n",
    "### Example Route:"
   ]
  },
  {
   "cell_type": "code",
   "execution_count": null,
   "metadata": {},
   "outputs": [],
   "source": [
    "@app.route('/')  # This defines the homepage\n",
    "def home():\n",
    "    return \"Welcome to the Flask App!\""
   ]
  },
  {
   "cell_type": "markdown",
   "metadata": {},
   "source": [
    "### Routes Handling GET/POST Requests\n",
    "- `GET` method: Used to retrieve data from the server.\n",
    "- `POST` method: Used to send data to the server (e.g., submitting a form).\n",
    "\n",
    "Example of handling both `GET` and `POST` requests:"
   ]
  },
  {
   "cell_type": "code",
   "execution_count": null,
   "metadata": {},
   "outputs": [],
   "source": [
    "@app.route('/submit', methods=['GET', 'POST'])\n",
    "def submit():\n",
    "    if request.method == 'POST':\n",
    "        data = request.form['name']  # Retrieve data from form input\n",
    "        return f\"Hello, {data}!\"\n",
    "    return render_template('submit.html')  # Show form page"
   ]
  },
  {
   "cell_type": "markdown",
   "metadata": {},
   "source": [
    "## Step-by-Step Guide: Building a Flask Web App with SQLite3\n",
    "***"
   ]
  },
  {
   "cell_type": "markdown",
   "metadata": {},
   "source": [
    "### 1. Installing Flask\n",
    "To get started, install Flask using pip:\n",
    "```python\n",
    "pip install flask"
   ]
  },
  {
   "cell_type": "markdown",
   "metadata": {},
   "source": [
    "### Step 2: Setting Up the Database\n",
    "\n",
    "Create a `db_connector.py` file:"
   ]
  },
  {
   "cell_type": "code",
   "execution_count": null,
   "metadata": {},
   "outputs": [],
   "source": [
    "import sqlite3  # Import SQLite library\n",
    "\n",
    "class Database:\n",
    "    def __init__(self):\n",
    "        # Define the database name\n",
    "        self.DBname = 'SQLtask.db'\n",
    "\n",
    "    # Create a connection to the database\n",
    "    def connect(self):\n",
    "        conn = None\n",
    "        try:\n",
    "            conn = sqlite3.connect(self.DBname)  # Connect to the database\n",
    "        except Exception as e:\n",
    "            print(e)  # Print any connection error\n",
    "        return conn\n",
    "\n",
    "    # Execute a SELECT query\n",
    "    def queryDB(self, command, params=[]):\n",
    "        conn = self.connect()\n",
    "        cur = conn.cursor()\n",
    "        cur.execute(command, params)  # Execute query\n",
    "        result = cur.fetchall()  # Fetch results\n",
    "        self.disconnect(conn)  # Close connection\n",
    "        return result\n",
    "\n",
    "    # Execute an INSERT, UPDATE, or DELETE query\n",
    "    def updateDB(self, command, params=[]):\n",
    "        conn = self.connect()\n",
    "        cur = conn.cursor()\n",
    "        cur.execute(command, params)  # Execute update\n",
    "        conn.commit()  # Commit changes\n",
    "        result = cur.fetchall()\n",
    "        self.disconnect(conn)  # Close connection\n",
    "        return result\n",
    "\n",
    "    # Close the database connection\n",
    "    def disconnect(self, conn):\n",
    "        conn.close()\n"
   ]
  },
  {
   "cell_type": "markdown",
   "metadata": {},
   "source": [
    "---\n",
    "\n",
    "### Step 3: Setting Up Flask\n",
    "\n",
    "Create `app.py` with the following structure:"
   ]
  },
  {
   "cell_type": "code",
   "execution_count": null,
   "metadata": {},
   "outputs": [],
   "source": [
    "from flask import Flask, request, render_template, redirect, url_for, session\n",
    "from flask_bcrypt import Bcrypt\n",
    "from flask_login import LoginManager, login_user, login_required, logout_user\n",
    "from db_connector import Database\n",
    "\n",
    "# Initialize Flask app\n",
    "app = Flask(__name__)\n",
    "app.secret_key = 'supersecretkey'  # Secret key for session management\n",
    "bcrypt = Bcrypt(app)\n",
    "db = Database()\n",
    "\n",
    "# Initialize login manager for authentication\n",
    "login_manager = LoginManager()\n",
    "login_manager.init_app(app)  # Attach login manager to the app\n",
    "\n",
    "if __name__ == '__main__':\n",
    "    app.run(debug=True)  # Run Flask in debug mode\n"
   ]
  },
  {
   "cell_type": "markdown",
   "metadata": {},
   "source": [
    "### Step 4: User Authentication\n",
    "\n",
    "### Example: Using GET and POST Methods with Forms"
   ]
  },
  {
   "cell_type": "code",
   "execution_count": null,
   "metadata": {},
   "outputs": [],
   "source": [
    "@app.route('/add_game', methods=['GET', 'POST'])\n",
    "def add_game():\n",
    "    if request.method == 'POST':\n",
    "        title = request.form['title']\n",
    "        genre = request.form['genre']\n",
    "        platform = request.form['platform']\n",
    "        db.updateDB(\"INSERT INTO games (title, genre, platform) VALUES (?, ?, ?)\", (title, genre, platform))\n",
    "        return redirect(url_for('dashboard'))  # Redirect to updated dashboard\n",
    "    return render_template('add_game.html')  # Show form page"
   ]
  },
  {
   "cell_type": "markdown",
   "metadata": {},
   "source": [
    "#### Register a New User"
   ]
  },
  {
   "cell_type": "code",
   "execution_count": null,
   "metadata": {},
   "outputs": [],
   "source": [
    "@app.route('/register', methods=['GET', 'POST'])\n",
    "def register():\n",
    "    if request.method == 'POST':\n",
    "        username = request.form['username']  # Retrieve username from form\n",
    "        password = bcrypt.generate_password_hash(request.form['password']).decode('utf-8')  # Hash password\n",
    "        \n",
    "        try:\n",
    "            # Insert new user into the database\n",
    "            db.updateDB(\"INSERT INTO users (username, password) VALUES (?, ?)\", (username, password))\n",
    "            return redirect(url_for('login'))  # Redirect to login page\n",
    "        except:\n",
    "            return render_template('register.html', message=\"Username already exists\")\n",
    "    \n",
    "    return render_template('register.html')  # Render registration form"
   ]
  },
  {
   "cell_type": "markdown",
   "metadata": {},
   "source": [
    "### Login User"
   ]
  },
  {
   "cell_type": "code",
   "execution_count": null,
   "metadata": {},
   "outputs": [],
   "source": [
    "@app.route('/login', methods=['GET', 'POST'])\n",
    "def login():\n",
    "    if request.method == 'POST':\n",
    "        username = request.form['username']  # Retrieve username\n",
    "        password = request.form['password']  # Retrieve password\n",
    "        \n",
    "        user = db.queryDB(\"SELECT * FROM users WHERE username = ?\", (username,))  # Fetch user from DB\n",
    "        \n",
    "        # Check if user exists and password matches\n",
    "        if user and bcrypt.check_password_hash(user[0][2], password):\n",
    "            session['user'] = username  # Store user session\n",
    "            return redirect(url_for('dashboard'))  # Redirect to dashboard\n",
    "        else:\n",
    "            return render_template('login.html', message=\"Invalid credentials\")\n",
    "    \n",
    "    return render_template('login.html')  # Render login form"
   ]
  },
  {
   "cell_type": "markdown",
   "metadata": {},
   "source": [
    "### Logout User"
   ]
  },
  {
   "cell_type": "code",
   "execution_count": null,
   "metadata": {},
   "outputs": [],
   "source": [
    "@app.route('/logout')\n",
    "@login_required  # Ensure only logged-in users can log out\n",
    "\n",
    "def logout():\n",
    "    logout_user()  # Logout user\n",
    "    return redirect(url_for('login'))  # Redirect to login page"
   ]
  },
  {
   "cell_type": "markdown",
   "metadata": {},
   "source": [
    "### Step 5: Handling Game Data\n",
    "\n",
    "### Dashboard - View All Games"
   ]
  },
  {
   "cell_type": "code",
   "execution_count": null,
   "metadata": {},
   "outputs": [],
   "source": [
    "@app.route('/dashboard')\n",
    "@login_required  # Only authenticated users can access\n",
    "\n",
    "def dashboard():\n",
    "    games = db.queryDB(\"SELECT * FROM games\")  # Fetch all games from DB\n",
    "    return render_template('dashboard.html', games=games)  # Render dashboard page"
   ]
  },
  {
   "cell_type": "markdown",
   "metadata": {},
   "source": [
    "### Add a New Game"
   ]
  },
  {
   "cell_type": "code",
   "execution_count": null,
   "metadata": {},
   "outputs": [],
   "source": [
    "@app.route('/add_game', methods=['GET', 'POST'])\n",
    "@login_required  # Only authenticated users can add games\n",
    "\n",
    "def add_game():\n",
    "    if request.method == 'POST':\n",
    "        title = request.form['title']  # Retrieve game title\n",
    "        genre = request.form['genre']  # Retrieve game genre\n",
    "        platform = request.form['platform']  # Retrieve game platform\n",
    "        \n",
    "        # Insert game into database\n",
    "        db.updateDB(\"INSERT INTO games (title, genre, platform) VALUES (?, ?, ?)\", (title, genre, platform))\n",
    "        return redirect(url_for('dashboard'))  # Redirect to dashboard\n",
    "    \n",
    "    return render_template('add_game.html')  # Render add game form"
   ]
  },
  {
   "cell_type": "markdown",
   "metadata": {},
   "source": [
    "### Delete a Game"
   ]
  },
  {
   "cell_type": "code",
   "execution_count": null,
   "metadata": {},
   "outputs": [],
   "source": [
    "@app.route('/delete_game/<int:game_id>')\n",
    "@login_required  # Only authenticated users can delete games\n",
    "\n",
    "def delete_game(game_id):\n",
    "    # Delete game by ID\n",
    "    db.updateDB(\"DELETE FROM games WHERE id = ?\", (game_id,))\n",
    "    return redirect(url_for('dashboard'))  # Redirect to dashboard"
   ]
  },
  {
   "cell_type": "markdown",
   "metadata": {},
   "source": [
    "***\n",
    "### Step 6: Running the Application\n",
    "\n",
    "Run `app.py`\n",
    "\n",
    "The following code is executed:"
   ]
  },
  {
   "cell_type": "code",
   "execution_count": null,
   "metadata": {},
   "outputs": [],
   "source": [
    "if __name__ == '__main__':\n",
    "    app.run(debug=True)  # Run Flask in debug mode"
   ]
  },
  {
   "cell_type": "markdown",
   "metadata": {},
   "source": [
    "Access `http://127.0.0.1:5000/` to use the application."
   ]
  },
  {
   "cell_type": "markdown",
   "metadata": {},
   "source": [
    "## Understanding Jinja2 Templating\n",
    "Jinja2 is Flask’s template engine that allows embedding Python-like code in HTML.\n",
    "\n",
    "### Key Jinja2 Features:\n",
    "1. **Variables:** `{{ variable_name }}` → Displays data from Python in the template.\n",
    "2. **Loops:** `{% for item in list %} ... {% endfor %}` → Iterates through lists.\n",
    "3. **Conditionals:** `{% if condition %} ... {% else %} ... {% endif %}` → Adds logic.\n",
    "\n",
    "### Example Usage:\n"
   ]
  },
  {
   "cell_type": "code",
   "execution_count": null,
   "metadata": {},
   "outputs": [],
   "source": [
    "<ul>\n",
    "    {% for game in games %}\n",
    "    <li>{{ game.title }} - {{ game.genre }} ({{ game.platform }})</li>\n",
    "    {% endfor %}\n",
    "</ul>"
   ]
  },
  {
   "cell_type": "markdown",
   "metadata": {},
   "source": [
    "This will loop through `games` passed from the Flask app and display each game’s details."
   ]
  },
  {
   "cell_type": "markdown",
   "metadata": {},
   "source": [
    "***\n",
    "### Step 7: Creating HTML Templates\n",
    "\n",
    "## Understanding the Base Template (`base.html`)\n",
    "Flask uses **template inheritance** to avoid code repetition. A **base template** defines common page structures like headers, footers, and navigation bars.\n",
    "\n",
    "### Example `base.html` (Used by all other pages):\n",
    "\n",
    "### `templates/base.html`\n",
    "html"
   ]
  },
  {
   "cell_type": "code",
   "execution_count": 3,
   "metadata": {},
   "outputs": [
    {
     "ename": "SyntaxError",
     "evalue": "invalid syntax (1702565060.py, line 1)",
     "output_type": "error",
     "traceback": [
      "\u001b[1;36m  Cell \u001b[1;32mIn[3], line 1\u001b[1;36m\u001b[0m\n\u001b[1;33m    <!DOCTYPE html>\u001b[0m\n\u001b[1;37m    ^\u001b[0m\n\u001b[1;31mSyntaxError\u001b[0m\u001b[1;31m:\u001b[0m invalid syntax\n"
     ]
    }
   ],
   "source": [
    "<!DOCTYPE html>\n",
    "<html lang=\"en\">\n",
    "<head>\n",
    "    <meta charset=\"UTF-8\">\n",
    "    <meta name=\"viewport\" content=\"width=device-width, initial-scale=1.0\">\n",
    "    <title>{% block title %}Flask App{% endblock %}</title>\n",
    "</head>\n",
    "<body>\n",
    "    <!-- Navigation Bar with links to Dashboard and Logout -->\n",
    "    <nav>\n",
    "        <a href=\"{{ url_for('dashboard') }}\">Dashboard</a> |\n",
    "        <a href=\"{{ url_for('logout') }}\">Logout</a>\n",
    "    </nav>\n",
    "    \n",
    "    <!-- This block will be replaced by content from child templates -->\n",
    "    {% block content %}{% endblock %}\n",
    "</body>\n",
    "</html>"
   ]
  },
  {
   "cell_type": "markdown",
   "metadata": {},
   "source": [
    "### `templates/login.html`\n",
    "html"
   ]
  },
  {
   "cell_type": "code",
   "execution_count": null,
   "metadata": {},
   "outputs": [],
   "source": [
    "{% extends 'base.html' %}\n",
    "{% block title %}Login{% endblock %}\n",
    "{% block content %}\n",
    "<h2>Login</h2>\n",
    "<form method=\"POST\">\n",
    "    <!-- Input field for username -->\n",
    "    <input type=\"text\" name=\"username\" placeholder=\"Username\" required>\n",
    "    \n",
    "    <!-- Input field for password -->\n",
    "    <input type=\"password\" name=\"password\" placeholder=\"Password\" required>\n",
    "    \n",
    "    <!-- Submit button to log in -->\n",
    "    <button type=\"submit\">Login</button>\n",
    "</form>\n",
    "\n",
    "<!-- Display error message if login fails -->\n",
    "{% if message %}<p>{{ message }}</p>{% endif %}\n",
    "{% endblock %}"
   ]
  },
  {
   "cell_type": "markdown",
   "metadata": {},
   "source": [
    "### `templates/register.html`\n",
    "html"
   ]
  },
  {
   "cell_type": "code",
   "execution_count": null,
   "metadata": {},
   "outputs": [],
   "source": [
    "{% extends 'base.html' %}\n",
    "{% block title %}Register{% endblock %}\n",
    "{% block content %}\n",
    "<h2>Register</h2>\n",
    "<form method=\"POST\">\n",
    "    <!-- Input field for username -->\n",
    "    <input type=\"text\" name=\"username\" placeholder=\"Username\" required>\n",
    "    \n",
    "    <!-- Input field for password -->\n",
    "    <input type=\"password\" name=\"password\" placeholder=\"Password\" required>\n",
    "    \n",
    "    <!-- Submit button to register -->\n",
    "    <button type=\"submit\">Register</button>\n",
    "</form>\n",
    "\n",
    "<!-- Display message if registration fails -->\n",
    "{% if message %}<p>{{ message }}</p>{% endif %}\n",
    "{% endblock %}"
   ]
  },
  {
   "cell_type": "markdown",
   "metadata": {},
   "source": [
    "### `templates/dashboard.html`\n",
    "html"
   ]
  },
  {
   "cell_type": "code",
   "execution_count": null,
   "metadata": {},
   "outputs": [],
   "source": [
    "{% extends 'base.html' %}\n",
    "{% block title %}Dashboard{% endblock %}\n",
    "{% block content %}\n",
    "<h2>Game List</h2>\n",
    "<a href=\"{{ url_for('add_game') }}\">Add Game</a>\n",
    "<ul>\n",
    "    {% for game in games %}\n",
    "    <li>\n",
    "        <!-- Display game title, genre, and platform -->\n",
    "        {{ game[1] }} - {{ game[2] }} ({{ game[3] }}) \n",
    "        \n",
    "        <!-- Link to delete the game -->\n",
    "        <a href=\"{{ url_for('delete_game', game_id=game[0]) }}\">Delete</a>\n",
    "    </li>\n",
    "    {% endfor %}\n",
    "</ul>\n",
    "{% endblock %}"
   ]
  },
  {
   "cell_type": "markdown",
   "metadata": {},
   "source": [
    "### `templates/add_game.html`\n",
    "html"
   ]
  },
  {
   "cell_type": "code",
   "execution_count": null,
   "metadata": {},
   "outputs": [],
   "source": [
    "{% extends 'base.html' %}\n",
    "{% block title %}Add Game{% endblock %}\n",
    "{% block content %}\n",
    "<h2>Add New Game</h2>\n",
    "<form method=\"POST\">\n",
    "    <!-- Input field for game title -->\n",
    "    <input type=\"text\" name=\"title\" placeholder=\"Game Title\" required>\n",
    "    \n",
    "    <!-- Input field for game genre -->\n",
    "    <input type=\"text\" name=\"genre\" placeholder=\"Genre\" required>\n",
    "    \n",
    "    <!-- Input field for game platform -->\n",
    "    <input type=\"text\" name=\"platform\" placeholder=\"Platform\" required>\n",
    "    \n",
    "    <!-- Submit button to add the game -->\n",
    "    <button type=\"submit\">Add Game</button>\n",
    "</form>\n",
    "{% endblock %}"
   ]
  },
  {
   "cell_type": "markdown",
   "metadata": {},
   "source": [
    "***"
   ]
  },
  {
   "cell_type": "markdown",
   "metadata": {},
   "source": [
    "## Summary\n",
    "In this guide, we:\n",
    "- Set up a Flask project\n",
    "- Created a database with SQLite\n",
    "- Implemented user authentication (register, login, logout)\n",
    "- Created routes using `render_template` and `redirect`\n",
    "- Managed game data using HTML templates\n",
    "- Added an `init_db.py` script to initialize the database\n",
    "***\n",
    "### Final Task\n",
    "Enhance the project by:\n",
    "1. Adding an edit/update route for games\n",
    "2. Creating a frontend to interact with the API\n",
    "3. Implementing user roles (admin & normal user)"
   ]
  }
 ],
 "metadata": {
  "kernelspec": {
   "display_name": "Python 3.13.0 64-bit",
   "language": "python",
   "name": "python3"
  },
  "language_info": {
   "codemirror_mode": {
    "name": "ipython",
    "version": 3
   },
   "file_extension": ".py",
   "mimetype": "text/x-python",
   "name": "python",
   "nbconvert_exporter": "python",
   "pygments_lexer": "ipython3",
   "version": "3.13.0"
  },
  "orig_nbformat": 4,
  "vscode": {
   "interpreter": {
    "hash": "5478c313ed766865ab3435cfd91527f373e48c57de547c64fc83b4ca53a5a2b1"
   }
  }
 },
 "nbformat": 4,
 "nbformat_minor": 2
}
